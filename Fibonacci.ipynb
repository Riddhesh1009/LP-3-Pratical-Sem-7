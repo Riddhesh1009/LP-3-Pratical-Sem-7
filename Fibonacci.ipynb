{
 "cells": [
  {
   "cell_type": "code",
   "execution_count": 8,
   "id": "f0e8c721",
   "metadata": {},
   "outputs": [
    {
     "name": "stdout",
     "output_type": "stream",
     "text": [
      "Enter the Fibonacci number you want to calculate: 11\n",
      "The 11-th Fibonacci number is: 89\n",
      "Total steps taken: 287\n"
     ]
    }
   ],
   "source": [
    "def fibonacci(n):\n",
    "    if n <= 1:\n",
    "        return n, 1\n",
    "    else:\n",
    "        fib_1, steps_1 = fibonacci(n-1)\n",
    "        fib_2, steps_2 = fibonacci(n-2)\n",
    "        return fib_1 + fib_2, steps_1 + steps_2 + 1\n",
    "\n",
    "def main():\n",
    "    n = int(input(\"Enter the Fibonacci number you want to calculate: \"))\n",
    "\n",
    "    if n < 0:\n",
    "        print(\"Please enter a non-negative integer.\")\n",
    "        return\n",
    "\n",
    "    result, steps = fibonacci(n)\n",
    "\n",
    "    print(f\"The {n}-th Fibonacci number is: {result}\")\n",
    "    print(f\"Total steps taken: {steps}\")\n",
    "\n",
    "if __name__ == \"__main__\":\n",
    "    main()\n"
   ]
  },
  {
   "cell_type": "code",
   "execution_count": 1,
   "id": "4074c2a0",
   "metadata": {},
   "outputs": [],
   "source": [
    "import requests\n"
   ]
  },
  {
   "cell_type": "code",
   "execution_count": 9,
   "id": "3df8f099",
   "metadata": {},
   "outputs": [
    {
     "name": "stdout",
     "output_type": "stream",
     "text": [
      "def fibonacci(n):\r\n",
      "    if n <= 0:\r\n",
      "        return []\r\n",
      "    elif n == 1:\r\n",
      "        return [0]\r\n",
      "    elif n == 2:\r\n",
      "        return [0, 1]\r\n",
      "    else:\r\n",
      "        fib = fibonacci(n - 1)\r\n",
      "        fib.append(fib[-1] + fib[-2])\r\n",
      "        return fib\r\n",
      "\r\n",
      "n = int(input(\"Enter the number of Fibonacci numbers to generate: \"))\r\n",
      "fibonacci_numbers = fibonacci(n)\r\n",
      "print(f\"The first {n} Fibonacci numbers are: {fibonacci_numbers}\")\r\n",
      "\n"
     ]
    }
   ],
   "source": [
    "print(requests.get(\"https://raw.githubusercontent.com/Riddhesh1009/LP3_PRACTICALS/master/fibo.py\").text)"
   ]
  },
  {
   "cell_type": "code",
   "execution_count": 15,
   "id": "f5938f67",
   "metadata": {},
   "outputs": [
    {
     "name": "stdout",
     "output_type": "stream",
     "text": [
      "Enter the number of Fibonacci numbers to generate: 0\n",
      "The first 0 Fibonacci numbers are: ([0], 1)\n"
     ]
    }
   ],
   "source": [
    "def fibonacci(n):\n",
    "    if n < 0:\n",
    "        return [],0\n",
    "    elif n == 0:\n",
    "        return [0],1\n",
    "    elif n == 1:\n",
    "        return [0, 1],1\n",
    "    else:\n",
    "        fib,steps = fibonacci(n - 1)\n",
    "        fib.append(fib[-1] + fib[-2])\n",
    "        return fib,steps+1\n",
    "\n",
    "n = int(input(\"Enter the number of Fibonacci numbers to generate: \"))\n",
    "fibonacci_numbers = fibonacci(n)\n",
    "print(f\"The first {n} Fibonacci numbers are: {fibonacci_numbers}\")"
   ]
  }
 ],
 "metadata": {
  "kernelspec": {
   "display_name": "Python 3 (ipykernel)",
   "language": "python",
   "name": "python3"
  },
  "language_info": {
   "codemirror_mode": {
    "name": "ipython",
    "version": 3
   },
   "file_extension": ".py",
   "mimetype": "text/x-python",
   "name": "python",
   "nbconvert_exporter": "python",
   "pygments_lexer": "ipython3",
   "version": "3.10.9"
  }
 },
 "nbformat": 4,
 "nbformat_minor": 5
}
